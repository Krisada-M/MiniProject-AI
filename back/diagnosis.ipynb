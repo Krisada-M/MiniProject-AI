{
  "cells": [
    {
      "cell_type": "code",
      "execution_count": 24,
      "metadata": {},
      "outputs": [],
      "source": [
        "import pandas as pd\n",
        "from sklearn import preprocessing\n",
        "from sklearn.tree import DecisionTreeClassifier\n",
        "sk = preprocessing.LabelEncoder()\n",
        "df = pd.read_csv('Disease.csv')\n"
      ]
    },
    {
      "cell_type": "code",
      "execution_count": 25,
      "metadata": {},
      "outputs": [
        {
          "name": "stdout",
          "output_type": "stream",
          "text": [
            "Disease : [15  4 16  9 14 32  1 12 17  6 23 29  7 31 27 28  8 11 36 39 19 20 21 22\n",
            "  3 35 10 33 13 18 38 25 24 30  5  0  2 37 34 26 40]\n"
          ]
        }
      ],
      "source": [
        "\n",
        "DiseaseEN = sk.fit_transform(df.Disease)\n",
        "Symptom1_en = sk.fit_transform(df.Symptom_1)\n",
        "Symptom2_en = sk.fit_transform(df.Symptom_2)\n",
        "Symptom3_en = sk.fit_transform(df.Symptom_3)\n",
        "Symptom4_en = sk.fit_transform(df.Symptom_4)\n",
        "Symptom5_en = sk.fit_transform(df.Symptom_5)\n",
        "\n",
        "print(\"Disease :\", DiseaseEN)"
      ]
    },
    {
      "cell_type": "code",
      "execution_count": 27,
      "metadata": {},
      "outputs": [],
      "source": [
        "DiseaseENn = list(zip(Symptom1_en, Symptom2_en,\n",
        "                 Symptom3_en, Symptom4_en, Symptom5_en))\n",
        "model = DecisionTreeClassifier(criterion=\"entropy\", splitter=\"random\")\n",
        "model = model.fit(DiseaseENn, df.Disease)\n"
      ]
    },
    {
      "cell_type": "code",
      "execution_count": null,
      "metadata": {},
      "outputs": [
        {
          "name": "stdout",
          "output_type": "stream",
          "text": [
            "Disease :  ['Fungalinfection']\n"
          ]
        }
      ],
      "source": [
        "A = 8\n",
        "B = 18\n",
        "C = 21\n",
        "D = 11\n",
        "E = 16\n",
        "diagnosis = model.predict([[A, B, C, D, E]])\n",
        "\n",
        "print(\"Disease : \", diagnosis)\n"
      ]
    },
    {
      "cell_type": "code",
      "execution_count": 28,
      "metadata": {},
      "outputs": [
        {
          "data": {
            "text/plain": [
              "[(15, 'Fungalinfection'),\n",
              " (4, 'Allergy'),\n",
              " (16, 'GERD'),\n",
              " (9, 'Chroniccholestasis'),\n",
              " (14, 'DrugReaction'),\n",
              " (32, 'Pepticulcerdiseae'),\n",
              " (1, 'AIDS'),\n",
              " (12, 'Diabetes'),\n",
              " (17, 'Gastroenteritis'),\n",
              " (6, 'BronchialAsthma'),\n",
              " (23, 'Hypertension'),\n",
              " (29, 'Migraine'),\n",
              " (7, 'Cervicalspondylosis'),\n",
              " (31, 'Paralysis(brainhemorrhage)'),\n",
              " (27, 'Jaundice'),\n",
              " (28, 'Malaria'),\n",
              " (8, 'Chickenpox'),\n",
              " (11, 'Dengue'),\n",
              " (36, 'Typhoid'),\n",
              " (39, 'hepatitisA'),\n",
              " (19, 'HepatitisB'),\n",
              " (20, 'HepatitisC'),\n",
              " (21, 'HepatitisD'),\n",
              " (22, 'HepatitisE'),\n",
              " (3, 'Alcoholichepatitis'),\n",
              " (35, 'Tuberculosis'),\n",
              " (10, 'CommonCold'),\n",
              " (33, 'Pneumonia'),\n",
              " (13, 'Dimorphichemmorhoids(piles)'),\n",
              " (18, 'Heartattack'),\n",
              " (38, 'Varicoseveins'),\n",
              " (25, 'Hypothyroidism'),\n",
              " (24, 'Hypoglycemia'),\n",
              " (30, 'Osteoarthristis'),\n",
              " (5, 'Arthritis'),\n",
              " (0, '(vertigo)ParoymsalPositionalVertigo'),\n",
              " (2, 'Acne'),\n",
              " (37, 'Urinarytractinfection'),\n",
              " (34, 'Psoriasis'),\n",
              " (26, 'Impetigo'),\n",
              " (40, 'no')]"
            ]
          },
          "execution_count": 28,
          "metadata": {},
          "output_type": "execute_result"
        }
      ],
      "source": [
        "\n",
        "df1 = list(zip(Symptom1_en,df.Symptom_1,Symptom2_en,df.Symptom_2,Symptom3_en,df.Symptom_3,Symptom4_en,df.Symptom_4,Symptom5_en,df.Symptom_5))\n",
        "df2 = list(zip(DiseaseEN,df.Disease))\n",
        "df2\n",
        "\n",
        "# df = pd.DataFrame(df1)\n",
        "# df.to_csv('test.csv')\n"
      ]
    }
  ],
  "metadata": {
    "colab": {
      "name": "Untitled0.ipynb",
      "provenance": []
    },
    "kernelspec": {
      "display_name": "Python 3",
      "name": "python3"
    },
    "language_info": {
      "codemirror_mode": {
        "name": "ipython",
        "version": 3
      },
      "file_extension": ".py",
      "mimetype": "text/x-python",
      "name": "python",
      "nbconvert_exporter": "python",
      "pygments_lexer": "ipython3",
      "version": "3.10.2"
    }
  },
  "nbformat": 4,
  "nbformat_minor": 0
}
